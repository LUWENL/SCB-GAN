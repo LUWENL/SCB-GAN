{
 "cells": [
  {
   "cell_type": "code",
   "execution_count": null,
   "id": "7550607f-faa1-44f0-ba9a-62334113af03",
   "metadata": {},
   "outputs": [],
   "source": [
    "from cleanfid import fid\n",
    "import os\n",
    "import PIL.Image\n",
    "import torch\n",
    "from torch import nn\n",
    "import numpy as np"
   ]
  },
  {
   "cell_type": "code",
   "execution_count": null,
   "id": "e6e25c53-07ee-4fd8-ac2a-b72ba6a9b006",
   "metadata": {},
   "outputs": [],
   "source": [
    "loss = nn.MSELoss(reduction='mean')\n",
    "prefix = 'Dawn'\n",
    "\n",
    "def compute_mse(dataset, fdir1, fdir2):\n",
    "    \n",
    "    mse_list = []\n",
    "\n",
    "    \n",
    "    for file in os.listdir(fdir1):\n",
    "        if file.endswith('.png'):\n",
    "            file1 = np.array(PIL.Image.open(os.path.join(fdir1, file))) /127.5 -1\n",
    "            if dataset != prefix:\n",
    "                file2 = np.array(PIL.Image.open(os.path.join(fdir2, file.replace(\"_\" + dataset.replace(prefix+'_', \"\"), \"\"))))/127.5 -1\n",
    "            else:\n",
    "                file2 = np.array(PIL.Image.open(os.path.join(fdir2, file)))/127.5 -1\n",
    "            mse = np.mean(np.square(file1 - file2))\n",
    "            mse_list.append(mse)\n",
    "            # print(mse)\n",
    "#             if file1.ndim == 2:\n",
    "#                 file1 = file1[:, :, np.newaxis] # HW => HWC            \n",
    "#             if file2.ndim == 2:\n",
    "#                 file2 = file2[:, :, np.newaxis] # HW => HWC\n",
    "                \n",
    "#             file1 = torch.tensor(file1.transpose(2, 0, 1)).to(torch.float32) / 127.5 - 1 # HWC => CHW\n",
    "#             file2 = torch.tensor(file2.transpose(2, 0, 1)).to(torch.float32) / 127.5 - 1 # HWC => CHW\n",
    "            \n",
    "#             output = loss(file1, file2)\n",
    "#             print(output)\n",
    "    return np.mean(mse_list)"
   ]
  },
  {
   "cell_type": "code",
   "execution_count": null,
   "id": "4848ba16-9dee-4fdc-ab5e-ad0c5373f0e7",
   "metadata": {},
   "outputs": [],
   "source": [
    "pre_path = '/home/featurize/data'\n",
    "# pre_path = '/home/featurize/data/LOL'\n",
    "datasets = os.listdir(pre_path)\n",
    "# prefix = 'trainB'\n",
    "datasets = [i for i in datasets if i.startswith(prefix + '_')]\n",
    "datasets, len(datasets)"
   ]
  },
  {
   "cell_type": "code",
   "execution_count": null,
   "id": "c4dd608f-2041-4da1-8bd6-c629551652e3",
   "metadata": {},
   "outputs": [],
   "source": [
    "fids = []\n",
    "mses = []\n",
    "fdir_ = '/home/featurize/data/' + prefix\n",
    "# fdir_ = '/home/featurize/data/LOL/trainB'\n",
    "\n",
    "\n",
    "for dataset in datasets:\n",
    "    custom_name = dataset.replace(prefix + \"_\", \"\").lower()\n",
    "    dataset_path = os.path.join(pre_path, dataset)\n",
    "    # fid.make_custom_stats(custom_name, dataset_path, mode=\"clean\")\n",
    "    # print(\"{} stat has been created !\".format(custom_name))\n",
    "    fid_ = fid.compute_fid(dataset_path, fdir_)\n",
    "    fids.append(fid_)\n",
    "    mse_ = compute_mse(dataset,dataset_path, fdir_)\n",
    "    mses.append(mse_)\n",
    "    print(\"The FID / MSE between folder1 {} and folder2 {} is {} / {}\".format(custom_name, prefix, fid_, mse_))\n",
    "\n",
    "    print(\"————\"*30)\n"
   ]
  },
  {
   "cell_type": "code",
   "execution_count": null,
   "id": "937aa7ce-d0d8-4156-9dfe-306f9333ac44",
   "metadata": {
    "tags": []
   },
   "outputs": [],
   "source": [
    "fid_dict = {}\n",
    "threshold = 0.02\n",
    "txt = open(prefix + '.txt', 'w')\n",
    "\n",
    "for i in range(len(datasets)):\n",
    "    dataset = datasets[i]\n",
    "    fid_ = fids[i]\n",
    "    mse_ = mses[i]\n",
    "    \n",
    "    txt.write(\"{} ——————— FID: {:.3f}, MSE: {:.3f}\\n\".format(dataset, fid_, mse_))\n",
    "\n",
    "    \n",
    "    if mse_ > threshold:\n",
    "        fid_dict[dataset] = fid_\n",
    "        print(\"{} ——————— FID: {:.3f}, MSE: {:.3f}\".format(dataset, fid_, mse_))\n",
    "        \n",
    "    if dataset.endswith('Flip') or dataset.endswith('Affine'):\n",
    "        print(\"__\")\n",
    "\n",
    "txt.close()"
   ]
  },
  {
   "cell_type": "code",
   "execution_count": null,
   "id": "d7f8d606-251d-43d6-a48b-a981398e094f",
   "metadata": {},
   "outputs": [],
   "source": [
    "from pprint import pprint\n",
    "pprint(sorted(fid_dict.items(), key = lambda kv:(kv[1], kv[0])))     "
   ]
  },
  {
   "cell_type": "code",
   "execution_count": null,
   "id": "96b8f013-eb26-4b5c-aae9-cb4d0b887ace",
   "metadata": {},
   "outputs": [],
   "source": [
    "aug_fid = sorted(fid_dict.items(), key = (lambda kv : (kv[1], kv[0])))\n",
    "num = 6\n",
    "aug_chosen = [kv[0] for kv in aug_fid[:num]]\n",
    "print(\"The augmentation chosen by MineAug is  {}\".format(aug_chosen))"
   ]
  },
  {
   "cell_type": "code",
   "execution_count": null,
   "id": "e7e37bf2-9773-4f70-839a-66d05f4ad979",
   "metadata": {},
   "outputs": [],
   "source": []
  }
 ],
 "metadata": {
  "kernelspec": {
   "display_name": "Python 3",
   "language": "python",
   "name": "python3"
  },
  "language_info": {
   "codemirror_mode": {
    "name": "ipython",
    "version": 3
   },
   "file_extension": ".py",
   "mimetype": "text/x-python",
   "name": "python",
   "nbconvert_exporter": "python",
   "pygments_lexer": "ipython3",
   "version": "3.6.13"
  }
 },
 "nbformat": 4,
 "nbformat_minor": 5
}
